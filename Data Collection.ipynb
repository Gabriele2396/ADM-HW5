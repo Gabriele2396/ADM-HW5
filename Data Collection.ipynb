{
 "cells": [
  {
   "cell_type": "code",
   "execution_count": 1,
   "metadata": {},
   "outputs": [],
   "source": [
    "# 1. Import data"
   ]
  },
  {
   "cell_type": "code",
   "execution_count": 2,
   "metadata": {},
   "outputs": [],
   "source": [
    "import os\n",
    "import networkx as nx\n",
    "import matplotlib.pyplot as plt"
   ]
  },
  {
   "cell_type": "code",
   "execution_count": 3,
   "metadata": {},
   "outputs": [],
   "source": [
    "path = os.getcwd()+'\\\\data'\n",
    "path_dist = path + '\\\\distance.gr'\n",
    "path_info = path + '\\\\node_info.co'\n",
    "path_trav_time = path + '\\\\travel_time.gr'"
   ]
  },
  {
   "cell_type": "code",
   "execution_count": 4,
   "metadata": {},
   "outputs": [],
   "source": [
    "def clean_data(path):\n",
    "    with open(path, 'r') as x:\n",
    "        lst = x.readlines()\n",
    "        out = []\n",
    "        for i in lst:\n",
    "            row = i[2:-1] # deleting all elements we don't need \n",
    "            out.append(row)\n",
    "        clean_out = out[7:]\n",
    "        clean_out2 = []\n",
    "        for j in range(len(clean_out)):\n",
    "            clean_out2.append(list(map(int, clean_out[j].split())))        \n",
    "    return clean_out2"
   ]
  },
  {
   "cell_type": "code",
   "execution_count": 5,
   "metadata": {},
   "outputs": [],
   "source": [
    "dist = clean_data(path_dist)\n",
    "time = clean_data(path_trav_time)\n",
    "info = clean_data(path_info)"
   ]
  },
  {
   "cell_type": "code",
   "execution_count": 6,
   "metadata": {},
   "outputs": [
    {
     "data": {
      "text/plain": [
       "[[1, 1048577, 456],\n",
       " [1048577, 1, 456],\n",
       " [2, 1048578, 2389],\n",
       " [1048578, 2, 2389],\n",
       " [3, 1048579, 358],\n",
       " [1048579, 3, 358],\n",
       " [4, 1048579, 14901],\n",
       " [1048579, 4, 14901],\n",
       " [5, 6, 18133],\n",
       " [6, 5, 18133]]"
      ]
     },
     "execution_count": 6,
     "metadata": {},
     "output_type": "execute_result"
    }
   ],
   "source": [
    "dist[:10]"
   ]
  },
  {
   "cell_type": "code",
   "execution_count": 7,
   "metadata": {},
   "outputs": [
    {
     "data": {
      "text/plain": [
       "[[1, 1048577, 1139],\n",
       " [1048577, 1, 1139],\n",
       " [2, 1048578, 5972],\n",
       " [1048578, 2, 5972],\n",
       " [3, 1048579, 895],\n",
       " [1048579, 3, 895],\n",
       " [4, 1048579, 37253],\n",
       " [1048579, 4, 37253],\n",
       " [5, 6, 45332],\n",
       " [6, 5, 45332]]"
      ]
     },
     "execution_count": 7,
     "metadata": {},
     "output_type": "execute_result"
    }
   ],
   "source": [
    "time[:10]"
   ]
  },
  {
   "cell_type": "code",
   "execution_count": null,
   "metadata": {},
   "outputs": [],
   "source": []
  },
  {
   "cell_type": "code",
   "execution_count": null,
   "metadata": {},
   "outputs": [],
   "source": []
  },
  {
   "cell_type": "code",
   "execution_count": null,
   "metadata": {},
   "outputs": [],
   "source": []
  }
 ],
 "metadata": {
  "kernelspec": {
   "display_name": "Python 3",
   "language": "python",
   "name": "python3"
  },
  "language_info": {
   "codemirror_mode": {
    "name": "ipython",
    "version": 3
   },
   "file_extension": ".py",
   "mimetype": "text/x-python",
   "name": "python",
   "nbconvert_exporter": "python",
   "pygments_lexer": "ipython3",
   "version": "3.7.4"
  }
 },
 "nbformat": 4,
 "nbformat_minor": 2
}
