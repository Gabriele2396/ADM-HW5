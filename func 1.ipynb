{
 "cells": [
  {
   "cell_type": "code",
   "execution_count": null,
   "metadata": {},
   "outputs": [],
   "source": [
    "# 1. Import data"
   ]
  },
  {
   "cell_type": "code",
   "execution_count": 2,
   "metadata": {},
   "outputs": [],
   "source": [
    "import os\n",
    "import networkx as nx\n",
    "from collections import defaultdict\n",
    "import sys\n",
    "sys.setrecursionlimit(1500)"
   ]
  },
  {
   "cell_type": "code",
   "execution_count": 3,
   "metadata": {},
   "outputs": [],
   "source": [
    "path = os.getcwd()+'\\\\data'\n",
    "path_dist = path + '\\\\distance.gr'\n",
    "path_info = path + '\\\\node_info.co'\n",
    "path_trav_time = path + '\\\\travel_time.gr'"
   ]
  },
  {
   "cell_type": "code",
   "execution_count": 4,
   "metadata": {},
   "outputs": [],
   "source": [
    "def clean_data(path):\n",
    "    with open(path, 'r') as x:\n",
    "        lst = x.readlines()\n",
    "        out = []\n",
    "        for i in lst:\n",
    "            row = i[2:-1] # deleting all elements we don't need \n",
    "            out.append(row)\n",
    "        clean_out = out[7:]\n",
    "        clean_out2 = []\n",
    "        for j in range(len(clean_out)):\n",
    "            clean_out2.append(list(map(int, clean_out[j].split())))        \n",
    "    return clean_out2"
   ]
  },
  {
   "cell_type": "code",
   "execution_count": 5,
   "metadata": {},
   "outputs": [],
   "source": [
    "dist = clean_data(path_dist)\n",
    "time = clean_data(path_trav_time)\n",
    "info = clean_data(path_info)"
   ]
  },
  {
   "cell_type": "code",
   "execution_count": 6,
   "metadata": {},
   "outputs": [],
   "source": [
    "neighbours = defaultdict(list)\n",
    "for i in range(len(dist)):\n",
    "    neighbours[dist[i][0]].append(dist[i][1])"
   ]
  },
  {
   "cell_type": "code",
   "execution_count": 7,
   "metadata": {},
   "outputs": [],
   "source": [
    "price_nodes = defaultdict(list)\n",
    "\n",
    "for i in range(len(dist)):\n",
    "    price_nodes[(dist[i][0], dist[i][1])].append([dist[i][2], time[i][2], 1])"
   ]
  },
  {
   "cell_type": "code",
   "execution_count": 9,
   "metadata": {},
   "outputs": [],
   "source": [
    "v = 1\n",
    "func = \"time\"\n",
    "d = 6000\n",
    "all_neighbours = []\n",
    "visited_nodes = []\n",
    "\n",
    "def get_index_by_func(func):\n",
    "    if func == \"hops\":\n",
    "        return 2\n",
    "    elif func == \"time\":\n",
    "        return 1\n",
    "    elif func == \"distance\":\n",
    "        return 0\n",
    "\n",
    "price_index = get_index_by_func(func)\n",
    "    \n",
    "def add_neighbour(node):\n",
    "    if node not in all_neighbours:\n",
    "        all_neighbours.append(node)\n",
    "\n",
    "def get_neighbours(origin, node, cur_price, d):\n",
    "    for n in neighbours[node]:\n",
    "        if n != origin and n not in visited_nodes:\n",
    "            visited_nodes.append(n)\n",
    "            temp_price = cur_price + price_nodes[(node,n)][0][price_index]\n",
    "            if temp_price <= d:\n",
    "                add_neighbour(n)\n",
    "                get_neighbours(origin, n, temp_price, d)\n",
    "\n",
    "def get_nodes_by_price(v, func, d):\n",
    "    get_neighbours(v, v, 0, d)\n",
    "        "
   ]
  },
  {
   "cell_type": "code",
   "execution_count": 10,
   "metadata": {},
   "outputs": [
    {
     "name": "stdout",
     "output_type": "stream",
     "text": [
      "[1048577, 1803, 2589]\n"
     ]
    }
   ],
   "source": [
    "get_nodes_by_price(v, func, d)\n",
    "print(all_neighbours)"
   ]
  },
  {
   "cell_type": "code",
   "execution_count": null,
   "metadata": {},
   "outputs": [],
   "source": []
  }
 ],
 "metadata": {
  "kernelspec": {
   "display_name": "Python 3",
   "language": "python",
   "name": "python3"
  }
 },
 "nbformat": 4,
 "nbformat_minor": 2
}
