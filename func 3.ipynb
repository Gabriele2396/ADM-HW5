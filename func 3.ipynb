{
 "cells": [
  {
   "cell_type": "markdown",
   "metadata": {},
   "source": [
    "# Functionality 3\n",
    "### Importing"
   ]
  },
  {
   "cell_type": "code",
   "execution_count": 1,
   "metadata": {},
   "outputs": [],
   "source": [
    "import os\n",
    "import networkx as nx\n",
    "import matplotlib.pyplot as plt\n",
    "from collections import defaultdict\n",
    "from collections import deque"
   ]
  },
  {
   "cell_type": "markdown",
   "metadata": {},
   "source": [
    "### getting paths for files"
   ]
  },
  {
   "cell_type": "code",
   "execution_count": 2,
   "metadata": {},
   "outputs": [],
   "source": [
    "path = os.getcwd()+'\\\\Data'\n",
    "path_dist = path + '\\\\distance.gr'\n",
    "path_info = path + '\\\\node_info.co'\n",
    "path_trav_time = path + '\\\\travel_time.gr'"
   ]
  },
  {
   "cell_type": "markdown",
   "metadata": {},
   "source": [
    "### Reading Data from files"
   ]
  },
  {
   "cell_type": "code",
   "execution_count": 3,
   "metadata": {},
   "outputs": [],
   "source": [
    "def clean_data(path):\n",
    "    with open(path, 'r') as x: # to open the file \n",
    "        lst = x.readlines() # to have access to each line\n",
    "        out = [] # initializing a list to put all the content from the file that we are opening\n",
    "        for i in lst: # iterating on each line\n",
    "            row = i[2:-1] # from each row we take from the second element to the second-last because in the original file there is \"a\" in the beginning and \"\\n\" at the end of the row\n",
    "            out.append(row) # in the out list we append each cleaned row\n",
    "        clean_out = out[7:] # we take from the 7th row to the last one, this because in the original file in the first 7 rows there are data in which we are not interested\n",
    "        clean_out2 = [] # initializing a new list to put all the number in form \"list of list, where each list inside contain 3 elements, the first node the second one and the distance\"\n",
    "        for j in range(len(clean_out)):\n",
    "            clean_out2.append(list(map(int, clean_out[j].split()))) # we do the last step by the split function       \n",
    "    return clean_out2 # and at the end this function give out the list of list cleaned from the file that we have opened"
   ]
  },
  {
   "cell_type": "code",
   "execution_count": null,
   "metadata": {},
   "outputs": [],
   "source": [
    "#loading data from the file\n",
    "dist = clean_data(path_dist)\n",
    "time = clean_data(path_trav_time)\n",
    "info = clean_data(path_info)"
   ]
  },
  {
   "cell_type": "markdown",
   "metadata": {},
   "source": [
    "### Functionality 3 \n",
    "####  Implementation of Graph Data Structure and Dijsktra's Algorithm"
   ]
  },
  {
   "cell_type": "code",
   "execution_count": 4,
   "metadata": {},
   "outputs": [],
   "source": [
    "#vertex class to store details of each node\n",
    "class Vertex:\n",
    "    def __init__(self,key):\n",
    "        self.id = key #node name or number\n",
    "        self.connectedTo = {}\n",
    "        self.coordinate =()\n",
    "    def addNeighbor(self,nbr,weight=0):\n",
    "        self.connectedTo[nbr.getId()] = weight\n",
    "    #def __str__(self):\n",
    "        #return str(self.id) + ' connectedTo: ' + str([x.id for x in self.connectedTo])\n",
    "        #return self.id\n",
    "    #method to return the nodes or vertices which are connected to the vertex x\n",
    "    def getConnections(self):\n",
    "        return self.connectedTo.keys()\n",
    "    #method to return the id of the vertex object\n",
    "    def getId(self):\n",
    "        return self.id\n",
    "    #method to return the weight of the \n",
    "    def getWeight(self,nbr):\n",
    "        if nbr not in self.connectedTo:\n",
    "            return -1\n",
    "        else:\n",
    "            return self.connectedTo[nbr]\n",
    "    #method to return coordinates of node for visualization\n",
    "    #initially will be empty we have to load data to it\n",
    "    def getCoord(self):\n",
    "        return self.coordinate\n",
    "    #to load coordinate\n",
    "    def setCoord(self,longitude,latitude):\n",
    "        self.coordinate = tuple([latitude,longitude])\n",
    "#class \"Graph\" to create a graph\n",
    "class Graph:\n",
    "    #dictionary of list of vertices of vertex objects\n",
    "    def __init__(self):\n",
    "        self.vertList = {}\n",
    "        self.numVertices = 0\n",
    "    #method to add vertex\n",
    "    def addVertex(self,key):\n",
    "        self.numVertices = self.numVertices + 1\n",
    "        #creating vertex object\n",
    "        newVertex = Vertex(key)\n",
    "        #storing corresponding vertext object reference in dictionary\n",
    "        self.vertList[key] = newVertex\n",
    "        return newVertex\n",
    "    #pass name of the vertex it will return corresponding vertex object\n",
    "    #if none present it will return -1\n",
    "    def getVertex(self,n):\n",
    "        if n in self.vertList:\n",
    "            return self.vertList[n]\n",
    "        else:\n",
    "            return -1\n",
    "    \n",
    "    def __contains__(self,n):\n",
    "        return n in self.vertList\n",
    "    #method to add edges\n",
    "    def addEdge(self,f,t,weight=0):\n",
    "        #if either of vertex not in the graph adding vertex to graph\n",
    "        if f not in self.vertList:\n",
    "            nv = self.addVertex(f)\n",
    "        if t not in self.vertList:\n",
    "            nv = self.addVertex(t)\n",
    "        #adding edge afterwards\n",
    "        self.vertList[f].addNeighbor(self.vertList[t], weight)\n",
    "    #method to get vertices\n",
    "    def getVertices(self):\n",
    "        return self.vertList.keys()\n",
    "\n",
    "    def __iter__(self):\n",
    "        return iter(self.vertList.values())\n",
    "    #method to find the shortest route between v1 and v2 vertices using dijsktra algorithm\n",
    "    def find_shortest(self, start, end):\n",
    "        if self.getVertex(start)!= -1 and self.getVertex(end)!=-1 :\n",
    "            #shortest paths stored in below dictionary\n",
    "            paths = {start: (None, 0)}\n",
    "            #current vertex\n",
    "            current = start\n",
    "            #to keep track of nodes that are already visited\n",
    "            visited = set()\n",
    "            #till we reach destination loop through and find path\n",
    "            while current != end:\n",
    "                #add current vertex to the visited set\n",
    "                visited.add(current)\n",
    "                #get the nodes that are reachable from current vertex\n",
    "                dest = self.getVertex(current).getConnections()\n",
    "                #current weight of the path\n",
    "                weight_current = paths[current][1]\n",
    "\n",
    "                for next_vertex in dest:\n",
    "                    #checking weights of the next reachable vertex from current vertex\n",
    "                    weight = self.getVertex(current).getWeight(next_vertex)+ weight_current\n",
    "                    #if its shortest path store it \n",
    "                    if next_vertex not in paths:\n",
    "                        paths[next_vertex] = (current, weight)\n",
    "                    else:\n",
    "                        current_shortest_weight = paths[next_vertex][1]\n",
    "                        if current_shortest_weight > weight:\n",
    "                            paths[next_vertex] = (current, weight)\n",
    "                #get all the destination from the current vertex\n",
    "                next_dest = {node: paths[node] for node in paths if node not in visited}\n",
    "                #if there is no rechable return -1 as it not possible\n",
    "                if not next_dest:\n",
    "                    return -1\n",
    "                # next vertex is the destination with the lowest weight\n",
    "                current = min(next_dest, key=lambda k: next_dest[k][1])\n",
    "\n",
    "            # Walk back through dest in shortest path\n",
    "            path = []\n",
    "            weights = []\n",
    "            while current is not None:\n",
    "                path.append(current)\n",
    "                next_vertex = paths[current][0]\n",
    "                weights.append(paths[current][1])\n",
    "                current = next_vertex\n",
    "            # reverse the path and return along with weight\n",
    "            path = path[::-1]\n",
    "            return weights[0],path\n",
    "        else:\n",
    "            return -1\n",
    "    \n",
    "    "
   ]
  },
  {
   "cell_type": "markdown",
   "metadata": {},
   "source": [
    "### Creating Graph"
   ]
  },
  {
   "cell_type": "code",
   "execution_count": 6,
   "metadata": {},
   "outputs": [],
   "source": [
    "#creating graph\n",
    "G1 = Graph()\n",
    "#Adding edges to graph thus making vertices too\n",
    "for i in range(len(dist)):\n",
    "    #vertex1,vertex2,distance or time or even empty it will construct graph with weight 1\n",
    "    G1.addEdge(dist[i][0],dist[i][1],dist[i][2])\n",
    "    \n",
    "#Adding coordinates detail to the vertices \n",
    "for i in range(len(info)):\n",
    "    #mandatory step to check first whether the vertex present in graph or not if getvertex method return -1 \n",
    "    if G1.getVertex(info[i][0])== -1 :\n",
    "        print(\"Vertex not present \",info[i])\n",
    "    else:\n",
    "        G1.getVertex(info[i][0]).setCoord(int(info[i][1])/1000000,int(info[i][2])/1000000 )"
   ]
  },
  {
   "cell_type": "markdown",
   "metadata": {},
   "source": [
    "### Getting Input From the User and Printing the Output"
   ]
  },
  {
   "cell_type": "code",
   "execution_count": 7,
   "metadata": {},
   "outputs": [
    {
     "name": "stdout",
     "output_type": "stream",
     "text": [
      "Enter Starting Node\n",
      "d\n",
      "Enters Numbers only : Try Again\n",
      "Enter Starting Node\n",
      "21\n",
      "Please Enter the sequence of Nodes one by one: (press enter to end)\n",
      "23\n",
      "22\n",
      "26\n",
      "30\n",
      "\n",
      "21 [23, 22, 26, 30]\n"
     ]
    }
   ],
   "source": [
    "#Getting Input from the User\n",
    "while True:\n",
    "    print(\"Enter Starting Node\")\n",
    "    H = input()\n",
    "    if H.isalpha()==True:\n",
    "        print(\"Enters Numbers only : Try Again\")\n",
    "        continue\n",
    "    H = int(H)\n",
    "    if G1.getVertex(H) == -1:\n",
    "        print(\"Node not present in the Graph!!! Try again\")\n",
    "    else:\n",
    "        break\n",
    "    print(\"Try Again\")\n",
    "print(\"Please Enter the sequence of Nodes one by one: (press enter to end)\")\n",
    "p=[]\n",
    "while True:\n",
    "    temp = input()\n",
    "    if temp== \"\":\n",
    "        break\n",
    "    p.append(int(temp))\n",
    "print(H,p)\n",
    "#Finding Shortest ordered path\n",
    "Flag = -1\n",
    "current = H\n",
    "weight = 0 \n",
    "shortest_path = []\n",
    "for i in range(len(p)):\n",
    "    A = G1.find_shortest(current,p[i])\n",
    "    if  A == -1 :\n",
    "        print(\"Not Possible\")\n",
    "    else:\n",
    "        w = A[0]\n",
    "        path = A[1]\n",
    "        shortest_path+= path[:-1]\n",
    "        weight+=w\n",
    "        current = p[i]\n",
    "shortest_path.append(p[-1])\n",
    "print(shortest_path,weight)"
   ]
  },
  {
   "cell_type": "code",
   "execution_count": 8,
   "metadata": {},
   "outputs": [
    {
     "name": "stdout",
     "output_type": "stream",
     "text": [
      "[21, 1048596, 1048595, 24, 23, 61, 1048625, 1048628, 65, 1048629, 66, 80, 1048641, 2319, 1048593, 22, 1048592, 17, 16, 124, 1048683, 139, 155, 1048591, 18, 19, 20, 1048597, 26, 1048597, 20, 21, 1048596, 1048595, 24, 23, 1048594, 2384, 1048612, 43, 1050708, 1048609, 40, 2661, 1050717, 2662, 1048606, 1048604, 35, 180, 179, 1048626, 63, 62, 1048600, 30] 438783\n"
     ]
    }
   ],
   "source": [
    "print(shortest_path,weight)"
   ]
  },
  {
   "cell_type": "code",
   "execution_count": null,
   "metadata": {},
   "outputs": [],
   "source": []
  }
 ],
 "metadata": {
  "kernelspec": {
   "display_name": "Python 3",
   "language": "python",
   "name": "python3"
  },
  "language_info": {
   "codemirror_mode": {
    "name": "ipython",
    "version": 3
   },
   "file_extension": ".py",
   "mimetype": "text/x-python",
   "name": "python",
   "nbconvert_exporter": "python",
   "pygments_lexer": "ipython3",
   "version": "3.7.3"
  }
 },
 "nbformat": 4,
 "nbformat_minor": 2
}
