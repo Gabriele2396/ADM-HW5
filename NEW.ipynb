{
 "cells": [
  {
   "cell_type": "code",
   "execution_count": 1,
   "metadata": {},
   "outputs": [],
   "source": [
    "import os\n",
    "import networkx as nx\n",
    "import matplotlib.pyplot as plt\n",
    "from collections import defaultdict"
   ]
  },
  {
   "cell_type": "code",
   "execution_count": 2,
   "metadata": {},
   "outputs": [],
   "source": [
    "path = os.getcwd()+'\\\\Data'\n",
    "path_dist = path + '\\\\distance.gr'\n",
    "path_info = path + '\\\\node_info.co'\n",
    "path_trav_time = path + '\\\\travel_time.gr'"
   ]
  },
  {
   "cell_type": "code",
   "execution_count": 3,
   "metadata": {},
   "outputs": [],
   "source": [
    "def clean_data(path):\n",
    "    with open(path, 'r') as x: # to open the file \n",
    "        lst = x.readlines() # to have access to each line\n",
    "        out = [] # initializing a list to put all the content from the file that we are opening\n",
    "        for i in lst: # iterating on each line\n",
    "            row = i[2:-1] # from each row we take from the second element to the second-last because in the original file there is \"a\" in the beginning and \"\\n\" at the end of the row\n",
    "            out.append(row) # in the out list we append each cleaned row\n",
    "        clean_out = out[7:] # we take from the 7th row to the last one, this because in the original file in the first 7 rows there are data in which we are not interested\n",
    "        clean_out2 = [] # initializing a new list to put all the number in form \"list of list, where each list inside contain 3 elements, the first node the second one and the distance\"\n",
    "        for j in range(len(clean_out)):\n",
    "            clean_out2.append(list(map(int, clean_out[j].split()))) # we do the last step by the split function       \n",
    "    return clean_out2 # and at the end this function give out the list of list cleaned from the file that we have opened"
   ]
  },
  {
   "cell_type": "code",
   "execution_count": 122,
   "metadata": {},
   "outputs": [],
   "source": [
    "#vertex class to store details of each node\n",
    "class Vertex:\n",
    "    def __init__(self,key):\n",
    "        self.id = key #node name or number\n",
    "        self.connectedTo = {}\n",
    "        self.coordinate =()\n",
    "    def addNeighbor(self,nbr,weight=0):\n",
    "        self.connectedTo[nbr] = weight\n",
    "    #def __str__(self):\n",
    "        #return str(self.id) + ' connectedTo: ' + str([x.id for x in self.connectedTo])\n",
    "        #return self.id\n",
    "    #method to return the nodes or vertices which are connected to the vertex x\n",
    "    def getConnections(self):\n",
    "        return self.connectedTo.keys()\n",
    "    #method to return the id of the vertex object\n",
    "    def getId(self):\n",
    "        return self.id\n",
    "    #method to return the weight of the \n",
    "    def getWeight(self,nbr):\n",
    "        if nbr not in self.connectedTo:\n",
    "            return -1\n",
    "        else:\n",
    "            return self.connectedTo[nbr]\n",
    "    #method to return coordinates of node for visualization\n",
    "    #initially will be empty we have to load data to it\n",
    "    def getCoord(self):\n",
    "        return self.coordinate\n",
    "    #to load coordinate\n",
    "    def setCoord(self,longitude,latitude):\n",
    "        self.coordinate = tuple([latitude,longitude])\n",
    "#class \"Graph\" to create a graph\n",
    "class Graph:\n",
    "    #dictionary of list of vertices of vertex objects\n",
    "    def __init__(self):\n",
    "        self.vertList = {}\n",
    "        self.numVertices = 0\n",
    "    #method to add vertex\n",
    "    def addVertex(self,key):\n",
    "        self.numVertices = self.numVertices + 1\n",
    "        #creating vertex object\n",
    "        newVertex = Vertex(key)\n",
    "        #storing corresponding vertext object reference in dictionary\n",
    "        self.vertList[key] = newVertex\n",
    "        return newVertex\n",
    "    #pass name of the vertex it will return corresponding vertex object\n",
    "    #if none present it will return -1\n",
    "    def getVertex(self,n):\n",
    "        if n in self.vertList:\n",
    "            return self.vertList[n]\n",
    "        else:\n",
    "            return -1\n",
    "    \n",
    "    def __contains__(self,n):\n",
    "        return n in self.vertList\n",
    "    #method to add edges\n",
    "    def addEdge(self,f,t,weight=0):\n",
    "        #if either of vertex not in the graph adding vertex to graph\n",
    "        if f not in self.vertList:\n",
    "            nv = self.addVertex(f)\n",
    "        if t not in self.vertList:\n",
    "            nv = self.addVertex(t)\n",
    "        #adding edge afterwards\n",
    "        self.vertList[f].addNeighbor(self.vertList[t].getId(), weight)\n",
    "    #method to get vertices\n",
    "    def getVertices(self):\n",
    "        return self.vertList.keys()\n",
    "\n",
    "    def __iter__(self):\n",
    "        return iter(self.vertList.values())"
   ]
  },
  {
   "cell_type": "code",
   "execution_count": 6,
   "metadata": {},
   "outputs": [],
   "source": [
    "#loading data from the file\n",
    "dist = clean_data(path_dist)\n",
    "time = clean_data(path_trav_time)\n",
    "info = clean_data(path_info)"
   ]
  },
  {
   "cell_type": "code",
   "execution_count": 123,
   "metadata": {},
   "outputs": [],
   "source": [
    "#creating graph\n",
    "G1 = Graph()\n",
    "#G1.addEdge(2,1)\n",
    "#G1.addEdge(1,2)\n",
    "# to get list of vertices \n",
    "#[x.id for x in G1.getVertex(1).getConnections()]\n"
   ]
  },
  {
   "cell_type": "code",
   "execution_count": 124,
   "metadata": {},
   "outputs": [],
   "source": [
    "#Adding edges to graph thus making vertices too\n",
    "for i in range(len(dist)):\n",
    "    #vertex1,vertex2,distance or time or even empty it will construct graph with weight 1\n",
    "    G1.addEdge(dist[i][0],dist[i][1],dist[i][2])"
   ]
  },
  {
   "cell_type": "code",
   "execution_count": 125,
   "metadata": {},
   "outputs": [],
   "source": [
    "#Adding coordinates detail to the vertices \n",
    "for i in range(len(info)):\n",
    "    #mandatory step to check first whether the vertex present in graph or not if getvertex method return -1 \n",
    "    if G1.getVertex(info[i][0])== -1 :\n",
    "        print(\"Vertex not present \",info[i])\n",
    "    else:\n",
    "        G1.getVertex(info[i][0]).setCoord(int(info[i][1])/1000000,int(info[i][2])/1000000 )"
   ]
  },
  {
   "cell_type": "code",
   "execution_count": 126,
   "metadata": {},
   "outputs": [
    {
     "data": {
      "text/plain": [
       "(34.13355, -114.315309)"
      ]
     },
     "execution_count": 126,
     "metadata": {},
     "output_type": "execute_result"
    }
   ],
   "source": [
    "#check if theres vertex present in graph by using method if it returns -1 that is not present in graph\n",
    "G1.getVertex(3)\n",
    "#to check v1 connected to v2 below will return the weight of it , if not connected it will return -1\n",
    "G1.getVertex(1).getWeight(1802)\n",
    "#number of vertices on the Graph\n",
    "G1.numVertices\n",
    "#to get the coordinate of the node or place\n",
    "G1.getVertex(1).getCoord()"
   ]
  }
 ],
 "metadata": {
  "kernelspec": {
   "display_name": "Python 3",
   "language": "python",
   "name": "python3"
  },
  "language_info": {
   "codemirror_mode": {
    "name": "ipython",
    "version": 3
   },
   "file_extension": ".py",
   "mimetype": "text/x-python",
   "name": "python",
   "nbconvert_exporter": "python",
   "pygments_lexer": "ipython3",
   "version": "3.7.3"
  }
 },
 "nbformat": 4,
 "nbformat_minor": 2
}
